{
 "cells": [
  {
   "cell_type": "code",
   "execution_count": 1,
   "metadata": {},
   "outputs": [
    {
     "ename": "ImportError",
     "evalue": "cannot import name 'QCoreApplication' from 'PyQt5.QtWidgets' (C:\\ProgramData\\anaconda3\\lib\\site-packages\\PyQt5\\QtWidgets.pyd)",
     "output_type": "error",
     "traceback": [
      "\u001b[1;31m---------------------------------------------------------------------------\u001b[0m",
      "\u001b[1;31mImportError\u001b[0m                               Traceback (most recent call last)",
      "Cell \u001b[1;32mIn[1], line 5\u001b[0m\n\u001b[0;32m      3\u001b[0m \u001b[38;5;28;01mfrom\u001b[39;00m \u001b[38;5;21;01mPyQt5\u001b[39;00m\u001b[38;5;21;01m.\u001b[39;00m\u001b[38;5;21;01mQtCore\u001b[39;00m \u001b[38;5;28;01mimport\u001b[39;00m QSize, Qt\n\u001b[0;32m      4\u001b[0m \u001b[38;5;28;01mfrom\u001b[39;00m \u001b[38;5;21;01mPyQt5\u001b[39;00m\u001b[38;5;21;01m.\u001b[39;00m\u001b[38;5;21;01mQtSql\u001b[39;00m \u001b[38;5;28;01mimport\u001b[39;00m QSqlDatabase, QSqlTableModel\n\u001b[1;32m----> 5\u001b[0m \u001b[38;5;28;01mfrom\u001b[39;00m \u001b[38;5;21;01mPyQt5\u001b[39;00m\u001b[38;5;21;01m.\u001b[39;00m\u001b[38;5;21;01mQtWidgets\u001b[39;00m \u001b[38;5;28;01mimport\u001b[39;00m (\n\u001b[0;32m      6\u001b[0m     QCoreApplication,\n\u001b[0;32m      7\u001b[0m     QApplication,\n\u001b[0;32m      8\u001b[0m     QComboBox,\n\u001b[0;32m      9\u001b[0m     QDataWidgetMapper,\n\u001b[0;32m     10\u001b[0m     QDateTimeEdit,\n\u001b[0;32m     11\u001b[0m     QFormLayout,\n\u001b[0;32m     12\u001b[0m     QHBoxLayout,\n\u001b[0;32m     13\u001b[0m     QLabel,\n\u001b[0;32m     14\u001b[0m     QLineEdit,\n\u001b[0;32m     15\u001b[0m     QMainWindow,\n\u001b[0;32m     16\u001b[0m     QPushButton,\n\u001b[0;32m     17\u001b[0m     QVBoxLayout,\n\u001b[0;32m     18\u001b[0m     QWidget,\n\u001b[0;32m     19\u001b[0m )\n",
      "\u001b[1;31mImportError\u001b[0m: cannot import name 'QCoreApplication' from 'PyQt5.QtWidgets' (C:\\ProgramData\\anaconda3\\lib\\site-packages\\PyQt5\\QtWidgets.pyd)"
     ]
    }
   ],
   "source": [
    "import os\n",
    "#!pip install PyQt5\n",
    "from PyQt5.QtCore import QSize, Qt\n",
    "from PyQt5.QtSql import QSqlDatabase, QSqlTableModel\n",
    "from PyQt5.QtWidgets import (\n",
    "    QCoreApplication,\n",
    "    QApplication,\n",
    "    QComboBox,\n",
    "    QDataWidgetMapper,\n",
    "    QDateTimeEdit,\n",
    "    QFormLayout,\n",
    "    QHBoxLayout,\n",
    "    QLabel,\n",
    "    QLineEdit,\n",
    "    QMainWindow,\n",
    "    QPushButton,\n",
    "    QVBoxLayout,\n",
    "    QWidget,\n",
    ")\n"
   ]
  },
  {
   "cell_type": "code",
   "execution_count": null,
   "metadata": {},
   "outputs": [
    {
     "data": {
      "application/javascript": [
       "\n",
       "        if (window._pyforest_update_imports_cell) { window._pyforest_update_imports_cell('import sys'); }\n",
       "    "
      ],
      "text/plain": [
       "<IPython.core.display.Javascript object>"
      ]
     },
     "metadata": {},
     "output_type": "display_data"
    }
   ],
   "source": [
    "db = QSqlDatabase(\"QSQLITE\")\n",
    "db.setDatabaseName(\"members.sqlite\")\n",
    "# Create some dummy data.\n",
    "#db.open()\n",
    "#db.exec_(\n",
    "  #  \"create table if not exists members (name string, experience string, skills string, open_to_work string, portfolio_site string, created datetime) else append into members (name, experience, skills, open_to_work, portfolio_site, created) values('Name', 'Level of Experience', 'Top 3 Skills', 'Open to Receiving Job Leads?', 'Portfolio or Linkedin' datetime('Today') );\"\n",
    "#)\n",
    "#db.exec_(\n",
    "    #\"insert into members (title, experience, created) values ('2nd item', 'Three', datetime('2019-06-02 12:45:11') );\"\n",
    "#)\n",
    "db.open()\n",
    "db.exec_(\n",
    "    \"create table if not exist members (name string, experience string, skills string, open_to_work string, portfolio_site string, created datetime);\"\n",
    ")\n",
    "db.exec_(\n",
    "    \"insert into members (title, kind, created) values ('first title', 'Two', datetime('2020-06-02 12:45:11') );\"\n",
    ")\n",
    "db.exec_(\n",
    "    \"insert into members (title, kind, created) values ('2nd item', 'Three', datetime('2019-06-02 12:45:11') );\"\n",
    ")\n",
    "\n",
    "\n",
    "class MainWindow(QMainWindow):\n",
    "    def __init__(self):\n",
    "        super().__init__()\n",
    "\n",
    "        form = QFormLayout()\n",
    "\n",
    "        # Define fields.\n",
    "        self.first_name = QLineEdit()\n",
    "        self.last_name = QLineEdit()\n",
    "        self.social = QLineEdit()\n",
    "        self.experience = QComboBox()\n",
    "        self.experience.addItems([\"Just Starting\", \"Two(2)-Five(5) Years\", \"More than 5 Years\"])\n",
    "        self.skills = QLineEdit()\n",
    "        self.date = QDateTimeEdit()\n",
    "        #self.date.setDisplayFormat(\"yyyy-MM-dd HH:mm:ss\")\n",
    "        self.work = QComboBox()\n",
    "        self.work.addItems([\"Yes\", \"No\"])\n",
    "\n",
    "        form.addRow(QLabel(\"First Name\"), self.first_name)\n",
    "        form.addRow(QLabel(\"Last Name\"), self.last_name)\n",
    "        form.addRow(QLabel(\"Website: Portfolio/Linkedin\"), self.social)\n",
    "        form.addRow(QLabel(\"Level of Experience\"), self.experience)\n",
    "        form.addRow(QLabel(\"Top 3 Skills\"), self.skills)\n",
    "        form.addRow(QLabel(\"Open to Receiving Job Leads?\"), self.work)\n",
    "        form.addRow(QLabel(\"Date\"), self.date)\n",
    "\n",
    "        self.model = QSqlTableModel(db=db)\n",
    "\n",
    "        self.mapper = QDataWidgetMapper()  # Syncs widgets to the database.\n",
    "        self.mapper.setModel(self.model)\n",
    "\n",
    "        self.mapper.addMapping(self.first_name, 0) # Map to column number\n",
    "        self.mapper.addMapping(self.last_name, 1) \n",
    "        self.mapper.addMapping(self.social, 2)\n",
    "        self.mapper.addMapping(self.experience, 3)\n",
    "        self.mapper.addMapping(self.skills, 4)\n",
    "        self.mapper.addMapping(self.work, 5)\n",
    "        self.mapper.addMapping(self.date, 6)\n",
    "\n",
    "        self.model.setTable(\"members\")\n",
    "        self.model.select()  # Query the database\n",
    "\n",
    "        self.mapper.toFirst()  # Jump to first record\n",
    "\n",
    "        self.setMinimumSize(QSize(400, 400))\n",
    "\n",
    "        controls = QHBoxLayout()\n",
    "\n",
    "        prev_rec = QPushButton(\"Previous\")\n",
    "        prev_rec.clicked.connect(self.mapper.toPrevious)\n",
    "\n",
    "        #next_rec = QPushButton(\"Next\")\n",
    "        #next_rec.clicked.connect(self.mapper.toNext)\n",
    "\n",
    "        save_rec = QPushButton(\"Save Changes\")\n",
    "        save_rec.clicked.connect(self.mapper.submit)\n",
    "        \n",
    "        #done_rec = QPushButton(\"Done\")\n",
    "        #done_rec.clicked.connect(self.mapper.)\n",
    "\n",
    "        controls.addWidget(prev_rec)\n",
    "        #controls.addWidget(next_rec)\n",
    "        controls.addWidget(save_rec)\n",
    "\n",
    "        layout = QVBoxLayout()\n",
    "\n",
    "        layout.addLayout(form)\n",
    "        layout.addLayout(controls)\n",
    "\n",
    "        widget = QWidget()\n",
    "        widget.setLayout(layout)\n",
    "        self.setCentralWidget(widget)\n",
    "\n",
    "\n",
    "app = QApplication(sys.argv)\n",
    "window = MainWindow()\n",
    "window.show()\n",
    "app.exec_()"
   ]
  },
  {
   "cell_type": "code",
   "execution_count": null,
   "metadata": {},
   "outputs": [],
   "source": []
  }
 ],
 "metadata": {
  "kernelspec": {
   "display_name": "Python 3 (ipykernel)",
   "language": "python",
   "name": "python3"
  },
  "language_info": {
   "codemirror_mode": {
    "name": "ipython",
    "version": 3
   },
   "file_extension": ".py",
   "mimetype": "text/x-python",
   "name": "python",
   "nbconvert_exporter": "python",
   "pygments_lexer": "ipython3",
   "version": "3.10.9"
  }
 },
 "nbformat": 4,
 "nbformat_minor": 2
}
